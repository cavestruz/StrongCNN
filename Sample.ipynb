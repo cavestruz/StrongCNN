{
 "cells": [
  {
   "cell_type": "code",
   "execution_count": null,
   "metadata": {
    "collapsed": true
   },
   "outputs": [],
   "source": [
    "import sys\n",
    "sys.path.append('/Users/Ralph/Desktop/astro/45500')\n",
    "from sklearn.cross_validation import train_test_split\n",
    "from MLPipeline.IO.config_parser import parse_configfile\n",
    "from MLPipeline.IO.collect_classes import get_two_classes\n",
    "from MLPipeline.gridsearch._tools import build_parameter_grid, grid_search\n",
    "from sklearn.pipeline import Pipeline\n",
    "import time\n",
    "%matplotlib inline"
   ]
  }
 ],
 "metadata": {
  "kernelspec": {
   "display_name": "Python 2",
   "language": "python",
   "name": "python2"
  },
  "language_info": {
   "codemirror_mode": {
    "name": "ipython",
    "version": 2
   },
   "file_extension": ".py",
   "mimetype": "text/x-python",
   "name": "python",
   "nbconvert_exporter": "python",
   "pygments_lexer": "ipython2",
   "version": "2.7.13"
  }
 },
 "nbformat": 4,
 "nbformat_minor": 2
}
